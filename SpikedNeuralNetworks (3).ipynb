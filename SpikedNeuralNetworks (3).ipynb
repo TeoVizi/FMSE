{
  "nbformat": 4,
  "nbformat_minor": 0,
  "metadata": {
    "colab": {
      "provenance": []
    },
    "kernelspec": {
      "name": "python3",
      "display_name": "Python 3"
    },
    "language_info": {
      "name": "python"
    }
  },
  "cells": [
    {
      "cell_type": "markdown",
      "source": [
        "# Instalare snntorch"
      ],
      "metadata": {
        "id": "Pg2Dw42p2W3a"
      }
    },
    {
      "cell_type": "code",
      "execution_count": null,
      "metadata": {
        "colab": {
          "base_uri": "https://localhost:8080/"
        },
        "id": "kdgRnQja2K0X",
        "outputId": "dc801eca-ddfa-43e6-9fb2-1754bdfd3d76"
      },
      "outputs": [
        {
          "output_type": "stream",
          "name": "stdout",
          "text": [
            "Collecting snntorch\n",
            "  Downloading snntorch-0.9.4-py2.py3-none-any.whl.metadata (15 kB)\n",
            "Downloading snntorch-0.9.4-py2.py3-none-any.whl (125 kB)\n",
            "\u001b[2K   \u001b[90m━━━━━━━━━━━━━━━━━━━━━━━━━━━━━━━━━━━━━━━━\u001b[0m \u001b[32m125.6/125.6 kB\u001b[0m \u001b[31m3.6 MB/s\u001b[0m eta \u001b[36m0:00:00\u001b[0m\n",
            "\u001b[?25hInstalling collected packages: snntorch\n",
            "Successfully installed snntorch-0.9.4\n"
          ]
        }
      ],
      "source": [
        "!pip install snntorch"
      ]
    },
    {
      "cell_type": "markdown",
      "source": [
        "# Import-uri necesare"
      ],
      "metadata": {
        "id": "JJNcOekL2qUr"
      }
    },
    {
      "cell_type": "code",
      "source": [
        "# imports\n",
        "import snntorch as snn\n",
        "from snntorch import spikeplot as splt\n",
        "from snntorch import spikegen\n",
        "\n",
        "import torch\n",
        "import torch.nn as nn\n",
        "import torch.optim as optim\n",
        "from torch.utils.data import DataLoader\n",
        "\n",
        "import torchvision\n",
        "import torchvision.transforms as transforms\n",
        "from torchvision import datasets, transforms\n",
        "\n",
        "import matplotlib.pyplot as plt\n",
        "import matplotlib.animation as animation\n",
        "import numpy as np\n",
        "import itertools\n",
        "\n",
        "from IPython.display import HTML"
      ],
      "metadata": {
        "id": "_46Eu61X2xLo"
      },
      "execution_count": null,
      "outputs": []
    },
    {
      "cell_type": "markdown",
      "source": [
        "# Variabile pentru setari"
      ],
      "metadata": {
        "id": "-uU3Pd915rPv"
      }
    },
    {
      "cell_type": "code",
      "source": [
        "device = 'cuda' if torch.cuda.is_available() else 'cpu'\n",
        "batch_size = 128\n",
        "num_epochs = 5\n",
        "learning_rate = 1e-3\n",
        "time_steps = 25 # nr timesteps pentru encoding"
      ],
      "metadata": {
        "id": "XzYUOYuG5rjv"
      },
      "execution_count": null,
      "outputs": []
    },
    {
      "cell_type": "markdown",
      "source": [
        "# Dataset-ul MNIST"
      ],
      "metadata": {
        "id": "fi9q9Dpc3CT9"
      }
    },
    {
      "cell_type": "code",
      "source": [
        "transform = transforms.Compose([\n",
        "    transforms.ToTensor(),  # aduce pixelii in [0,1]\n",
        "])\n",
        "\n",
        "train_dataset = torchvision.datasets.MNIST(root='./data', train=True, download=True, transform=transform)\n",
        "test_dataset = torchvision.datasets.MNIST(root='./data', train=False, download=True, transform=transform)\n",
        "\n",
        "train_loader = torch.utils.data.DataLoader(dataset=train_dataset, batch_size=batch_size, shuffle=True, drop_last=True)\n",
        "test_loader = torch.utils.data.DataLoader(dataset=test_dataset, batch_size=batch_size, shuffle=False, drop_last=True)"
      ],
      "metadata": {
        "id": "77CQzOSk3BvQ"
      },
      "execution_count": null,
      "outputs": []
    },
    {
      "cell_type": "markdown",
      "source": [
        "# Rate Encoding folosind spikegen"
      ],
      "metadata": {
        "id": "59CO7_kz59MQ"
      }
    },
    {
      "cell_type": "code",
      "source": [
        "def rate_encode(inputs, time_steps):\n",
        "    return spikegen.rate(inputs, num_steps=time_steps)"
      ],
      "metadata": {
        "id": "EHFrtjGh6Bea"
      },
      "execution_count": null,
      "outputs": []
    },
    {
      "cell_type": "markdown",
      "source": [
        "# Reteaua SNN"
      ],
      "metadata": {
        "id": "KnUIRLz57l6Z"
      }
    },
    {
      "cell_type": "code",
      "source": [
        "class SNN(nn.Module):\n",
        "    def __init__(self):\n",
        "        super().__init__()\n",
        "        self.fc1 = nn.Linear(28*28, 512)\n",
        "        self.lif1 = snn.Leaky(beta=0.95)  # neuron LIF\n",
        "        self.fc2 = nn.Linear(512, 10)\n",
        "        self.lif2 = snn.Leaky(beta=0.95)\n",
        "\n",
        "    def forward(self, x):\n",
        "        mem1 = self.lif1.init_leaky()\n",
        "        mem2 = self.lif2.init_leaky()\n",
        "\n",
        "        spk2_rec = []  # salvare spike-uri de output\n",
        "\n",
        "        for step in range(x.size(0)):  # pentru fiecare timestep\n",
        "            curent1 = self.fc1(x[step])\n",
        "            spk1, mem1 = self.lif1(curent1, mem1)\n",
        "\n",
        "            curent2 = self.fc2(spk1)\n",
        "            spk2, mem2 = self.lif2(curent2, mem2)\n",
        "\n",
        "            spk2_rec.append(spk2)\n",
        "\n",
        "        spk2_rec = torch.stack(spk2_rec)\n",
        "        return spk2_rec"
      ],
      "metadata": {
        "id": "nMK6XedW7vB5"
      },
      "execution_count": null,
      "outputs": []
    },
    {
      "cell_type": "markdown",
      "source": [
        "# Initializare model"
      ],
      "metadata": {
        "id": "3qN05uf58y4M"
      }
    },
    {
      "cell_type": "code",
      "source": [
        "net = SNN().to(device)\n",
        "optimizer = optim.Adam(net.parameters(), lr=learning_rate)\n",
        "loss_fn = nn.CrossEntropyLoss()"
      ],
      "metadata": {
        "id": "aEhlHFok80_3"
      },
      "execution_count": null,
      "outputs": []
    },
    {
      "cell_type": "markdown",
      "source": [
        "#Antrenare"
      ],
      "metadata": {
        "id": "uXEgA5OS9Lvd"
      }
    },
    {
      "cell_type": "code",
      "source": [
        "for epoch in range(num_epochs):\n",
        "    net.train()\n",
        "    running_loss = 0\n",
        "    correct = 0\n",
        "    total = 0\n",
        "\n",
        "    for batch_idx, (images, labels) in enumerate(train_loader):\n",
        "        images = images.to(device)\n",
        "        labels = labels.to(device)\n",
        "\n",
        "        images = images.view(batch_size, -1)\n",
        "        images = rate_encode(images, time_steps)\n",
        "\n",
        "        optimizer.zero_grad()\n",
        "        outputs = net(images)\n",
        "\n",
        "        out_sum = outputs.sum(0)\n",
        "        loss = loss_fn(out_sum, labels)\n",
        "        loss.backward()\n",
        "        optimizer.step()\n",
        "\n",
        "        running_loss += loss.item()\n",
        "        _, predicted = out_sum.max(1)\n",
        "        total += labels.size(0)\n",
        "        correct += predicted.eq(labels).sum().item()\n",
        "\n",
        "    print(f'Epoch [{epoch+1}/{num_epochs}], Loss: {running_loss:.4f}, Accuracy: {100.*correct/total:.2f}%')\n"
      ],
      "metadata": {
        "colab": {
          "base_uri": "https://localhost:8080/"
        },
        "id": "Ly-A7c4c9Mtu",
        "outputId": "bb684dc7-833a-4576-d2aa-f44cddd0ec24"
      },
      "execution_count": null,
      "outputs": [
        {
          "output_type": "stream",
          "name": "stdout",
          "text": [
            "Epoch [1/5], Loss: 121.4368, Accuracy: 92.11%\n",
            "Epoch [2/5], Loss: 40.1170, Accuracy: 97.39%\n",
            "Epoch [3/5], Loss: 26.5143, Accuracy: 98.21%\n",
            "Epoch [4/5], Loss: 22.3426, Accuracy: 98.45%\n",
            "Epoch [5/5], Loss: 17.6117, Accuracy: 98.74%\n"
          ]
        }
      ]
    },
    {
      "cell_type": "markdown",
      "source": [
        "# Testare"
      ],
      "metadata": {
        "id": "Mf6vyPQ-_4Vt"
      }
    },
    {
      "cell_type": "code",
      "source": [
        "net.eval()\n",
        "correct = 0\n",
        "total = 0\n",
        "\n",
        "with torch.no_grad():\n",
        "    for images, labels in test_loader:\n",
        "        images = images.to(device)\n",
        "        labels = labels.to(device)\n",
        "\n",
        "        images = images.view(batch_size, -1)\n",
        "        images = rate_encode(images, time_steps)\n",
        "\n",
        "        outputs = net(images)\n",
        "        out_sum = outputs.sum(0)\n",
        "\n",
        "        _, predicted = out_sum.max(1)\n",
        "        total += labels.size(0)\n",
        "        correct += predicted.eq(labels).sum().item()\n",
        "\n",
        "print(f'Test Accuracy: {100.*correct/total:.2f}%')"
      ],
      "metadata": {
        "colab": {
          "base_uri": "https://localhost:8080/"
        },
        "id": "8ybtrQKl_3tb",
        "outputId": "d0583028-2672-40e2-fa48-fd950a71df48"
      },
      "execution_count": null,
      "outputs": [
        {
          "output_type": "stream",
          "name": "stdout",
          "text": [
            "Test Accuracy: 97.82%\n"
          ]
        }
      ]
    },
    {
      "cell_type": "markdown",
      "source": [
        "# Testare pentru o singura imagine"
      ],
      "metadata": {
        "id": "p7Pdd3vcASOT"
      }
    },
    {
      "cell_type": "code",
      "source": [
        "def test_single_image(model, loader, time_steps, device, img_index=0):\n",
        "    model.eval()\n",
        "\n",
        "    images, labels = next(iter(loader))\n",
        "    image = images[img_index].view(-1).unsqueeze(0).to(device)\n",
        "    label = labels[img_index]\n",
        "\n",
        "    plt.imshow(images[img_index].squeeze(), cmap=\"gray\")\n",
        "    plt.title(f\"Label corect: {label.item()}\")\n",
        "    plt.axis('off')\n",
        "    plt.show()\n",
        "\n",
        "    spikes = spikegen.rate(image, num_steps=time_steps)\n",
        "\n",
        "    with torch.no_grad():\n",
        "        outputs = model(spikes)\n",
        "        outputs_sum = outputs.sum(0)\n",
        "        prediction = outputs_sum.argmax(1).item()\n",
        "\n",
        "    print(f\"Network Prediction: {prediction}\")\n",
        "\n",
        "\n",
        "test_single_image(net, test_loader, time_steps, device, img_index=8)\n"
      ],
      "metadata": {
        "colab": {
          "base_uri": "https://localhost:8080/",
          "height": 445
        },
        "id": "dsWgtfY6AU-W",
        "outputId": "1e28572a-da1b-4b72-d7e8-161234f71ce3"
      },
      "execution_count": null,
      "outputs": [
        {
          "output_type": "display_data",
          "data": {
            "text/plain": [
              "<Figure size 640x480 with 1 Axes>"
            ],
            "image/png": "[encoded data removed]"
          },
          "metadata": {}
        },
        {
          "output_type": "stream",
          "name": "stdout",
          "text": [
            "Network Prediction: 5\n"
          ]
        }
      ]
    },
    {
      "cell_type": "markdown",
      "source": [
        "#Animare spike-ruri"
      ],
      "metadata": {
        "id": "0uYdbmKfA38e"
      }
    },
    {
      "cell_type": "code",
      "source": [
        "!pip install ffmpeg"
      ],
      "metadata": {
        "colab": {
          "base_uri": "https://localhost:8080/"
        },
        "id": "ssTrdzCzEqaz",
        "outputId": "3340a80f-5c5a-4056-f3df-1346ec0eeda3"
      },
      "execution_count": null,
      "outputs": [
        {
          "output_type": "stream",
          "name": "stdout",
          "text": [
            "Collecting ffmpeg\n",
            "  Downloading ffmpeg-1.4.tar.gz (5.1 kB)\n",
            "  Preparing metadata (setup.py) ... \u001b[?25l\u001b[?25hdone\n",
            "Building wheels for collected packages: ffmpeg\n",
            "  Building wheel for ffmpeg (setup.py) ... \u001b[?25l\u001b[?25hdone\n",
            "  Created wheel for ffmpeg: filename=ffmpeg-1.4-py3-none-any.whl size=6083 sha256=13889b57ecdd0ccce5f566b969b9206632071f554ff71ebc1f1cc4c8683d57bf\n",
            "  Stored in directory: /root/.cache/pip/wheels/56/30/c5/576bdd729f3bc062d62a551be7fefd6ed2f761901568171e4e\n",
            "Successfully built ffmpeg\n",
            "Installing collected packages: ffmpeg\n",
            "Successfully installed ffmpeg-1.4\n"
          ]
        }
      ]
    },
    {
      "cell_type": "code",
      "source": [
        "def animate_spike_image(model, loader, time_steps, device, img_index=0):\n",
        "    model.eval()\n",
        "\n",
        "    images, labels = next(iter(loader))\n",
        "    image = images[img_index].view(-1).unsqueeze(0).to(device)\n",
        "    label = labels[img_index]\n",
        "\n",
        "    spikes = spikegen.rate(image, num_steps=time_steps)\n",
        "\n",
        "    with torch.no_grad():\n",
        "        outputs = model(spikes)\n",
        "        outputs_sum = outputs.sum(0)\n",
        "        prediction = outputs_sum.argmax(1).item()\n",
        "\n",
        "    spikes = spikes.squeeze(1).cpu()\n",
        "\n",
        "    fig, ax = plt.subplots()\n",
        "    img_plot = ax.imshow(spikes[0].view(28,28), cmap='gray', vmin=0, vmax=1)\n",
        "    plt.title(f\"Label: {label.item()} - Prediction: {prediction}\")\n",
        "    plt.axis('off')\n",
        "\n",
        "    def update(frame):\n",
        "        img_plot.set_data(spikes[frame].view(28,28))\n",
        "        return [img_plot]\n",
        "\n",
        "    anim = animation.FuncAnimation(fig, update, frames=time_steps, interval=100, blit=True)\n",
        "\n",
        "    plt.close(fig)\n",
        "\n",
        "    return HTML(anim.to_html5_video())\n",
        "\n",
        "animate_spike_image(net, test_loader, time_steps, device, img_index=8)\n"
      ],
      "metadata": {
        "colab": {
          "base_uri": "https://localhost:8080/",
          "height": 501
        },
        "id": "gpXK796eA6N-",
        "outputId": "fe7520c4-956a-4969-e059-cd8bd07043ca"
      },
      "execution_count": null,
      "outputs": [
        {
          "output_type": "execute_result",
          "data": {
            "text/plain": [
              "<IPython.core.display.HTML object>"
            ],
            "text/html": [
              "<video width=\"640\" height=\"480\" controls autoplay loop>\n",
              "  <source type=\"video/mp4\" src=\"data:video/mp4;base64,AAAAIGZ0eXBNNFYgAAACAE00ViBpc29taXNvMmF2YzEAAAAIZnJlZQAAJqBtZGF0AAACrgYF//+q\n",
              "3EXpvebZSLeWLNgg2SPu73gyNjQgLSBjb3JlIDE2MyByMzA2MCA1ZGI2YWE2IC0gSC4yNjQvTVBF\n",
              "Ry00IEFWQyBjb2RlYyAtIENvcHlsZWZ0IDIwMDMtMjAyMSAtIGh0dHA6Ly93d3cudmlkZW9sYW4u\n",
              "b3JnL3gyNjQuaHRtbCAtIG9wdGlvbnM6IGNhYmFjPTEgcmVmPTMgZGVibG9jaz0xOjA6MCBhbmFs\n",
              "eXNlPTB4MzoweDExMyBtZT1oZXggc3VibWU9NyBwc3k9MSBwc3lfcmQ9MS4wMDowLjAwIG1peGVk\n",
              "X3JlZj0xIG1lX3JhbmdlPTE2IGNocm9tYV9tZT0xIHRyZWxsaXM9MSA4eDhkY3Q9MSBjcW09MCBk\n",
              "ZWFkem9uZT0yMSwxMSBmYXN0X3Bza2lwPTEgY2hyb21hX3FwX29mZnNldD0tMiB0aHJlYWRzPTMg\n",
              "bG9va2FoZWFkX3RocmVhZHM9MSBzbGljZWRfdGhyZWFkcz0wIG5yPTAgZGVjaW1hdGU9MSBpbnRl\n",
              "cmxhY2VkPTAgYmx1cmF5X2NvbXBhdD0wIGNvbnN0cmFpbmVkX2ludHJhPTAgYmZyYW1lcz0zIGJf\n",
              "cHlyYW1pZD0yIGJfYWRhcHQ9MSBiX2JpYXM9MCBkaXJlY3Q9MSB3ZWlnaHRiPTEgb3Blbl9nb3A9\n",
              "MCB3ZWlnaHRwPTIga2V5aW50PTI1MCBrZXlpbnRfbWluPTEwIHNjZW5lY3V0PTQwIGludHJhX3Jl\n",
              "ZnJlc2g9MCByY19sb29rYWhlYWQ9NDAgcmM9Y3JmIG1idHJlZT0xIGNyZj0yMy4wIHFjb21wPTAu\n",
              "NjAgcXBtaW49MCBxcG1heD02OSBxcHN0ZXA9NCBpcF9yYXRpbz0xLjQwIGFxPTE6MS4wMACAAAAK\n",
              "R2WIhAAR//73iB8yy2n5OtdyEeetLq0fUO5GcV6kvf4gAAADAAADAABlQN8pUH95cNzgAAAE8M6L\n",
              "/EUI3AAdDFljmWKtIaZk/qJ/psDuNqoaFocNBHARcKmWRixc5xTLwcK7rxWYvb5VSnOllO6M/PVl\n",
              "JoEMwqrlejU/XmwkBHN1y0K/imR866YZjV24wu5k4+5SrtEWE15xZLweJLBfjwAdEqVeLrDzWP/v\n",
              "uyVVMaFMdUo1w9+C8CmGMunC6bi523racG2MnPUe+UkO4AASLo1gXHxZBE8zKczPesX3dE8Fl2U1\n",
              "MhAKzVvXTFnqNrwuaM1sUav/2QZDsxkcuEKDPtzcXvP35paRzCHi9+pgeUab2czfrym1vBEVgvYk\n",
              "+yszpbNmtYOwNu8+C3Cv6Mtd9FCu8HTU7iW4v2JoOzqQdyBRaNDgNc0TrTHukJbJxaIbwXQORBst\n",
              "18IcQk39N9hSFEhp6nf/D4ApnmTKFFYhDX0hYtmInzEgnHEfLG63dGDcLHAEGwWpsrK8edck56Vk\n",
              "hrZdW9nrOpt1uXnNcmfMes/l7DdNPQ9wkUpD0utucO4jdowb77gAFZUr9mtTl1Qf///+3+YTHNwV\n",
              "wlMcg2EaP8u+/NKzBtmjI+OoTJZk2V68bbCq+PXN83N/veN1NlReVoF5h7xF/9pEvVcYRx4QZNng\n",
              "gFlfRg+sRT6IQwUaHwRbO/KY8liR1vTN5UO/GUYPRL7uIFmSRqoQyd656DCadHBfrLzHuko77A3o\n",
              "3EEGn+AnqiAONURvHvnGSUo+BC5VAwRUc5f79AJc7vZ4/1lv7cM3Usrl+N+dOlSTKXnW6ph59gf6\n",
              "78bED/0pZL21zQsC97RwmYEUWdcEM3aZDZZNtib/ZZNzgW/Hx1GSzoVSt18ZBJRzJRO6RGJhjAVL\n",
              "wqijMBw342ebZrmzeZmwVn1kbzkYq31LDe6J4KKF+XQLhYOmknXnbUs8JvF3PmNRnchoWThUZ4IF\n",
              "GYIdQ2nZOMtTukW7Eicawg50R1bRvCy6JQ7Jds/5cAByXfvlZjJO92Uojoe/9ij9hpTK+VDqDs1j\n",
              "eF1/QEJ01gU/0TXHJeeaKndcKep27VNVoqGb7ceutzrRPK+7COEUyCm+2gorYcrFJH6nyVV3Tb44\n",
              "FOgKhYh4MQZfXuDJwrmCiwiwzCtngFc0heIoClZGO7jabJgh6ZVBggPj/V/dfTlpOCBSa3lOEu3I\n",
              "14zFswPxbLyhcnpPSYn394BkU83GBfaP7xIR2p988cjb+VIy+sqEW9+nenZzzZnNEAQcX8U6zPD2\n",
              "KGcdA3Kx8VRH/ztC93YyCX7fKA9hhQvjMynLr0VGLHIjWQYhVau/NMHXnOCnhjUAAxfoVyKPN0jl\n",
              "gJykxcNI6G2wYSxIuLnk6/7Ks0Pna3hiZQJoX1Jgsft/Px9ei/Ijt+L2VHYFDcOirfyArWw7fUe0\n",
              "ehCIN4nkahCkeP8i+bAzcGXuM3MlaumT6DkBoq2ohzwYRkn9bxdCjOP7HeRlelxXw3ykZLjQxtGv\n",
              "gcpGDueq5b2mBMtve9DxoJhqpwxX9l1PW9TEl7fHgenwoLaqFTpEMTPuL9ecANXas6+czaFrPVxl\n",
              "m3Xl7iJRyLSMdEn6fQey8vTK4Mdjkq2ZtkAdE/bFo+8QyDvHb1FTi+bZBW8n/ulY2A36yZ5Hqfm3\n",
              "4W6wJXvdQL1/iDrFjK5AOCLy2EbRJtFcM9cQqqFrGbIXMigYdcLuIZDz4DCU27YTKJ88bF5Uv//2\n",
              "6Jy5eiLbIQK3sjQBmi+jdN96iAhGfcLcEPiG6fg7Frtpgz+b7ihIboWTAjCKT1nfrByR643NXgyj\n",
              "Lx5+nwhuTzO3ebvu0sqXmlLbV8Zcf2zA07kfgWTtZMlGJ5eJ8x2j2aKwffCDUxpiNN6MZS+9jiTF\n",
              "Z19ncSB7r1KEwb08kdOwH/TDkWhdcBN0Yat5YuActTbfB8br2A0A0wZU1y8i4sdq258gFpQ4JSPM\n",
              "keIDRtY5jPt0lpISjpugv2Mnw+9nhXEcUtsRy2z+BdH9EPk3cNH4KtN0LD1wGukNB1vtC/0rEe4N\n",
              "iJ7DGlnHky7sd3lBlKAezYGKTBFSAa7VDGB1RLQcNbangxYAAjOs+E4bCQd2nJrSgQw96HW62PWJ\n",
              "PpHYSWs9X//twmF/oEePrOyzIWFnOl9sxgYsxSM4EsIHTRdWZxrKDPejvp97iX4uwVqZFCg5zIpg\n",
              "NX6E2aSgN//P+csufV64dVcgMJZcbPPgaNhy6pPcQ+/lSao3/rSrJJvCeOFKg87Imt6rWxydK+Jy\n",
              "hTWgIIp0JYKuG71r/DQYSKeL8UhesNxqn2ETt8uiLDrwT8AIAG8Wv1fEn6H/ik572e+P//9IoiiQ\n",
              "Jx1tD/osSNe74GLpPyL/3u9c43XNcO1x5jHtvscWQZymq0RyxuMxm0mG8WkCUL2Odxdgzc7shv0z\n",
              "OGRGtVn605/RrJasDpjWzVsfcgcUymlDs2ezTY/clNcpmfEDtOfdZOf80FIiLCp/0NeFP/FTIihX\n",
              "zliHPPdqvQAU3kMFtoPKYGHq2qtEueB2ivuHPuC8w14cWHpc/R1zKUxv1A9Q1hd43xPZ38MlWsHr\n",
              "qUOL9IaLDnZe7jMtPediwa0NpSnuvZJcs/yy+NNZQLevHMcM4wO9lfEfTu1Rrfcmr/MLGOAPMsXy\n",
              "cAaL7aIuLfiWccGEsOGAAOIfSsct8Vy8GANjswPm3jXhA/eo2fRfzVuCdab+nSXJVi1Te5EUFMRk\n",
              "A2GCW/6xcTvM9XBJGbKEvtUjZWCyC1crhGzPiYt9Cxm3+YZuJnDqSYp5PfZw0WZFuA50eDbtxEt5\n",
              "3d8JSZ9cGlK12/3OCcvBB6qf/+r2ndO7WKlUdz7Df0lnYC5tV5kmhx7LVQqdaC4X4BlgSZza7Xii\n",
              "yEpH+4Xm2aGHmWZGmO+44iVG8m2R+XN5ZzDk4BN+Yqt+9BTJUaZCy5bWoKJNJjEvse6ofJkpc5jY\n",
              "2fzogt8I8DA3yNa6XYA6eh9Q1MJYE4+w+5jTyav2lnYUY1NKSLg2drqAyeLcDKmEd8dLBCB5EP+J\n",
              "BKaH+gSdIO5h7EerVbyaKBZnyf8MPGJHYkl3b615/TO3U8MXjIEJiSkKkTrEeieVFpQPwmoDzbyV\n",
              "MSYiWeHoI9wRUKBg87bsfeiqZHQvUyDfYHSIG5MWXZkycpenF7+YyLHhHCjbb9DFi7fj+qyj1kqp\n",
              "Puco+lg0XMmuBKNI32xUnEQbt0qlGOcKtayaqPYU/7NXbl3rfqt3CsflVksbNC7JmT1cbAcA/S8b\n",
              "xU3gCgQgaitduMJaz5RcfAFHYRSXhR+Fk8zloBEvzqn00VWGsyH28FvEyO6TqYYVEfQeyS+DkMLS\n",
              "GmPrRcnZfT8VuU0sKFetZ1PEQb8YCvWUI83TVYUsJkPlj7ITtYmviOAslRU04tNlQ+C6STM+OguY\n",
              "iKBFvwFWyoAAACFgAACJjrGY1dhvzuXLfx7swYzEmvcpoGQJ7zws2OpnKxf6XljQuyk9Fc7tmV5x\n",
              "8AAAAwAAAwCZgQAAAgxBmiRsQR/+tSqACcMly4A6KSizK/MEp21XEQFepWFswSiYlt1Z/CObZaFg\n",
              "5IL188zetcCRP4kHhVtOtqtdVw/2HbAaBWcGsrPrUieskMq21a/wSElC7SKq1B7qIo0Ap5JS3A42\n",
              "yW9smoZCxx+76yXpvf4TKkwnYSPLexWySFU9H4z2lyWbv9+ig4rO7+ZARkCB4PJIDYnxIBS8QnKX\n",
              "AqgCdzMqBSy93G2qT/58YtWfKlxts+e8OIGjGkU7LZFMzNcs8OnwcOGbqH6+BQYhHCC3ty1ktnwc\n",
              "n1n2sXKFkKh0IM3YF70+MzkTQv8WccV40pphj4WbKfvizWNW91haHl7mE/wm8FwN1VdQ2IXp+dIY\n",
              "3Y/PDPUX789UYyY6Tiw6xQ9xY5p8B3a5Gb+rtg9wBhXv5djsGh1yJM1UOgPbwXNqMjGXsPRCyqdG\n",
              "ETW2IPmfK+2cPAW6PERm7jxPZ+QKIX4FJH2WIzTOCLemfBWudQmcXuHo0rlplBnsoukQbMPdmgC/\n",
              "ay8B2jiTAfHKcse7J3oWwN4WZKsjUio1aYUU54qF3QfvQuNlm4Ybdv4yddo2wap7pxjM9la4qi4u\n",
              "STSyAT0ty6qhqSmhk6x13SIuExDTIi3BfBbtz/NUeQECWnlGzSk6zqGIBCcXVccVKpCtuOusfbUL\n",
              "d983AFWvk7UOQtBdztXfkmd/7W3s+qnRUwAAAUJBnkJ4h38AJg5QhMajquo307hOhP87Kc344nX5\n",
              "xbwX/TwDV6Ht+IcYYEatFFTQlE9oU6vaaVAAZxYlcXz5+33BgcLxuLT95rnIORSgfhJ2Esc2vQft\n",
              "2GepXBamDE0FNCuWEcGlQXX1dxy9/ZfZz1SD0PqRaUrvuZzFEAYGyEdgruf9RzUiTA1opbQe+p5S\n",
              "RTtCpQVqDLdlGTO1/ntsqHw7ZQJTqv1HwDVnt8NdI6POjYZJUjJnvmVojaLzVbKCpuujH8V68KQO\n",
              "V3ReqiJ2HCpqh370WfYenHoDXtscx03SnUNhVvhBRtR10VFl/LW84jUwEs/m1lyBPO/Qjt2eSUYr\n",
              "R3X4gi9cWOXe95BpzCh+M+eryK6ra2rCZ30ONnwZjcFT22lYIsBA2Yv++PP1GHJgnggfenx0Shlb\n",
              "ieZC8aJX3/MrAAAA+gGeYXRDfwAAziEr/Fmeg10wVy2na06pcidlALZq+2Ln9q6xu+XQc/oYkMr9\n",
              "vQAIfq2Wuc65O3XD7OUP53gd9lK0rEoLSoHDJP/wroXETGRReLch/bUnFFF7iCLm2XRG0LaEyWwi\n",
              "bzMHiH8t4NE9p4VmtUwnw3GgR5SNW7WI7bYKAnCgY3B1SybhoJQD6aW46FYZz42844yDNLj91qDJ\n",
              "vv/SbL/FxLs6G/vi7l/J3Ys+WGhAD6r6gRYHEC9Cr20kR8VmUZOgn9+Y4imsU+9fpGl6GOjbSmiW\n",
              "43VceG4J9WS5f/bu02Dd0ia4ym8OS8cJc7Tr94kNo71ARsAAAAEzAZ5jakN/AADOF0mINJXIWvsV\n",
              "nPzxMfiqF7lAAMp7aZhNaxWrwc6vuT5QpgGzVxNgWKvVpOVoLHG924Y1iT49qAP+RqdMoFJqNO5s\n",
              "oX2xOi1ExRocXO32cOyyPf+GfUyQJrWQJUfdNyWtKu6sywznaRklCQmAYdAGIIOP/ATCvoXNy6O5\n",
              "fxvNNUrnht6CCeFVwCPPhmeVwGxUVQ1vkFDWFeDV1hNip5nnfBJEiiu4izrA8sh9v1ERBD01fU2P\n",
              "duZLK4BLq/yIjQaQWmMLD6nZg7LBSYv+CJHLJEu7GLqY9mH1awftd093aUzhr0pQNCAxuSbE+DiP\n",
              "4qk5CUp3JYUBlQUhjkfpHpA3KH5wivj/lTTrYz48laWaRMM8ckzbZO0xjuKKovcyPopLwE6hOhSm\n",
              "gFSUMQAAATtBmmhJqEFomUwII//+tSqAACQ/ZuZfFo+kAHuvwCuI0zeNftA48eTsfy+5hQI4SHSX\n",
              "GFXUOsiR4C2/CBkZOkFkRwwYVokkNoANlKw6SXW2Ho3VyzZzgzNuJvXeIvwkN51jlGs7gKB5TL2z\n",
              "ejJw0NPZYASjK/1j/5n/9X+1RurbXULNfh3MLpW6kcAExiKeuiJJW4c9iEO6Om9JI37HZsfIXsNi\n",
              "wfnLmXZPkS1TPTuAn2tpJlbZUd0f4391WXJUNuzjz3oxQzXhwIEZGttemtP676PTjm9aYrOh92B+\n",
              "XhWz8dIkLbp3qxDoF4EzGOjR6v7oSja6yFm3h6Qb9xw8J0VFQuJALrfIR+ZiFshmCeSbianQvIOS\n",
              "aJ3vB27Pswb3wnEfkieFgufMjcbEbv36/SSt26Lg1/HuYNnrh7MAAADkQZ6GRREsO/8AAJBLjtSm\n",
              "gAvr04yQiWDrt6/al31S9KMy7aDRmBtm1t8tOh10AoPfQU5Zs/fP3y0svE/9bqK5LFL84CjOXE7b\n",
              "ZXMDUAdhfDzAo3iv8QNajsC392caz9Nh0TblRENB8n1YT2AA1GDsCLqSn+33F6eDudOThpf6ru+C\n",
              "HLE/poOF0y2lLrlGc1r7swKLL1DqvM0ylcYpMo8MyyrEj6x78742S+R92DpPn35/j7aayhyGb9D3\n",
              "heWWA3Rz/3rWS/uKf6RxGz0Ymd/Yevekl+mq/6sHZYUoqX8VQMK9PMqBAAAA1wGepXRDfwAAziEr\n",
              "+0rXoueQMkftQ7+J5AJbXW5uGrAjr7QGKCXOGxJT4V5pWWELM2ft8FABfP7hjBd54zB1nBQfnFwr\n",
              "jo7t8rRfFcfz/8qU7D+gKwwKkB8coYG1TGLe8G23N5177LXhP4k8E+YKWBw1jsckOHvI0lpYAlSO\n",
              "nJLi7JHpBqdqW2pmYALBoHLIC+S4SwNpLb5ftpu0ugAtWEfBX8Xs6ejNI4bQ7tLj6RWG7bKcSX2k\n",
              "+RrOGI/0GbNoWqbUm9O1MLlPLzldiorFGZ5nUUy+WGLBAAABBgGep2pDfwAAzgAoa6+/HqR7uvM6\n",
              "3hpAfSEw+bbsf+FvUivNiCjNY7DR4+HsKDiKXReDh5iMHJjpKJG13pAKkebOfncWiF8VPC/BsBlN\n",
              "DaxwADODQueCNwjFYqG7a/cP09GXXJbCtKKNwI9v0sBohaJuLpzYcvnWFt2wZHEdFMXVUhBYskrs\n",
              "GzI3mjf3IKXBcflEXJkrfIMP3Jg285eZ25AOCuWWM5VGqMKJPwrSqoisi4C7g4Oz5lMuUwBYa167\n",
              "UpQntVGJoiOjT7o8p4EWxvgs6sNG8fmIPssMGv5e4CSXQuAY/uO1WSpY9XZXscSPPhzcBGog7Bm7\n",
              "0FhBytMjjXIL3PxQJuAAAAD1QZqsSahBbJlMCCP//rUqgAAhP2bmY1TdhyqxPrHCyLEnzzzVtB6p\n",
              "XhnN0AhPaf/C1o00adUK9Vp6UzyuC5NlUTidlstYPxQbieXrDakA0Cvte37PYSyam5gW9cxeh5Lg\n",
              "DgNK4LogfGMTQqpZBD6et/ct3piS2jfD/zkveGKdOVFRytNkV8gOGX87CBWErRYQXZMWfZTbDFVe\n",
              "EYsUT86P3xym7Xy4ZmOANJesLknSDWy6Z9yHvADWL/IRIOqq26LdxAk2/Fc5W77lXa+yInQT1hrz\n",
              "J1/R6hTAVBqGmMNEgTXbm3skjAKFU51/Rbu6x+/bENPbs8AAAAC2QZ7KRRUsO/8AAIxNoVOXcUM6\n",
              "Ib6tqoHbTcaNITxrcS1sXipEFFyyHqlPZnbGZNksaOGY5J+A3dmYKqEpR3MN9RZ7Bq5KeJ3rC4kZ\n",
              "y5FLulUJvrErnvAAzhBbNlLS3i/MqtxtP7vYswi/1j6s1+RAX3ErxlNBovpxlB6jhDhvWa4L4nB5\n",
              "tQMYLdfTPYPx9icnEmMxcR48x2hPPtIvJ4odqQD08FPYKw3KRQltxdKKEG3kSnKAg4EAAAEmAZ7p\n",
              "dEN/AADI9WYIJ3SyH1tbfEMpBh8kyG0/7NiKkQyjAAjjLxkpuUdGADM/qJy4ail5ec80xfwD+vTp\n",
              "CRmDiV4XZGmQESBawy8iP+3b7D33eaj9Mtp2jVMp4tAsoew6Kn4j++gLteABoRAtp91oXReHVX9N\n",
              "MOcIz34wbU4tAWynuUOoQIwXxRvcLED+YWNxMVe9Pp8/vAGNpuL//w9OmBGeAkGXPxLoVKcfW8pL\n",
              "ahSW108QBMr55PrLACPvZ+PemoG+qdsS0OjNkPWwdK0Jxvv7XOEWju3DIP+LayjxJImEj7dt4UPv\n",
              "0+OgntZc5gh+c4N16mveKKChdGKtcGdrWjO+d2H/I/rZpwvV24W/hBXj7syM7QAyH+VbAD2XwqvA\n",
              "9Nnm9hBwAAAApQGe62pDfwAAyQAovhJjOegXck53K0wBmwYXELPCrOTRoQvImXyNVwno2hGOgfrt\n",
              "LQcVI6LxySEdGd7MMzIoo4OLisEHs6s9nqPKBMKMIPe9LhJSCvxjJ4ATtwTP+/w8bJr7yB9SnBcV\n",
              "fm6PfyFHljcIf1QAz8SgVcMEBx0+7Wjb4QzVG8iysZH/UPJ4BpTvniGKWk22Ev8/HeSj6+jHhjhk\n",
              "LUD5gAAAAUxBmvBJqEFsmUwIIf/+qlUAAEp5c/gn4EAIU9jOzOc/tjxKqXyYl6jfv1tSHFenS3yg\n",
              "zvjm5eP98sk7J4qk4O+1xuCVxs3BcFaM8cCe7uOEzdv8kVYdG9ALacdwRbaAa5XwHd+QScE15Vz8\n",
              "yY1MUKZKXEsHKPCGpYrn+tGvHlJa+2xj+KGyoj9Tgb8y4x5YRRWXP9S/t2Qo23IynLpNojvzYlzu\n",
              "8voKJvddadsSJGlY4PALlMK6Z4jD+sx+8+Tr7x64waz0S2dAXJLvNZFAcnUecZApqCIycPDJhIAY\n",
              "GYwh8rrhn+xnYHj/YiTY8LJjSy7L7D3rfjcbFlJHzVRzgJ3Lpxu7MW9k+dklNbEda9ARMBG+wM8V\n",
              "D5zJs9ERLnE/jySBbXlBNH4NR2t3Ydre0CSwVYjIXBKl33rg9iHGy9YGOtIkUSjhUUU80XkCPwAA\n",
              "AMVBnw5FFSw7/wAAkEf34Rq9ORH1tHMLYItbueYHlFGLAC37s/BCa+gAbH3f/g8CLzKRRtUG9iJY\n",
              "+NyRpG/zzMGvT457WjtDdWeLln7DvE1IFEYou3cLD7GgT+MrXJtrKteCnKvtA2bKNpVfgDLJAyFS\n",
              "zg5CpZuIIEnvdWElblgkNH27DuxiWWYFN4JFvnKGcmu8ChbUDhcVkeaJ1SSk2IgQsm7g1E5qpRhg\n",
              "4qJyN9hSuMJzMT+gwvmD7A0NErTFo4OxHaYFnQAAAK4Bny10Q38AAM4KieKY7ymJerShpXotDIGV\n",
              "wGfWrz29/gyQ4CPibGVwzNtblSLxCFvR5RWrKYAOC7veIxdvARxyRnmX+wEBT/SqCfDEyafOTZ1R\n",
              "ADEUjn3COnu9fMqwP278AVf71UDHpZpzSkMY5wHFz7r0YJYKjGWOaH6SaJK2rPw+VjuZSjmMkp0c\n",
              "AP8RKE4yVqfxDkFs7rTrzzaS6uIKk3gze1vWCZ3O1oo3AWUAAADhAZ8vakN/AADOAChrrByr+WPJ\n",
              "QJ6J2CrRfo1fD+KoyRKIVprHIAFSe8zlc5ZtnwYntt0tf22Uypm9I4x0QhlqHED+atFNLuzUqTNK\n",
              "da6mvgiAg1i6OITE2neS9c8KgbUzrEdxCpIknLcytNuT4bj2nGIhATRnJqHapF8E9RMwUyNiFMmj\n",
              "0/fCwUndbuLVqVuPbQw2T4WWIpnuSeGtMI5vd069i8qzG7JXkZ+B2N4AIg/QJKCLuFUES90j329l\n",
              "KvNRvHqmTrY69VuZGE4cJdekRzXfrvO5jn2EUPqDikhmjQLiAAABK0GbNEmoQWyZTAgh//6qVQAA\n",
              "Sn5oCHYsyjZmoEAFp4sX+rAQfxO3uPqhp/q3yzNC56Dvbh/Gze4WmtoBfL3bYiv/s0dZPpht/d5s\n",
              "qOy9iHlKY9xaheXB08hbwzxlZsTGCcdeed6w9VOyPfKmKDs3lBohQUG06q3tNvzeFMX+DXIDc5Zj\n",
              "qbdkDfw0V0voti1Hfh7N9q38Mw4gpko+qgGrkz+9RNOQLfCFr3vdAOjlG3zaENiGpvbssFp8U/KF\n",
              "itW53TfQOALJ5/IHXhzWupOxqoD9Me7T3LOEMPplVcYVvO7y+K/W2QtoYYSJiho62utON7gAoyfy\n",
              "KDnXBlN44D24GbEvledvjOScZfhv2pqaSptp7PzGMhWhebGDH9cKqyMIV5t8GXtxLGV8iAFBAAAA\n",
              "3kGfUkUVLDv/AACQOSbP+qJvAgZWsn396Y8zEACEreqd43/Xf/Tk6q87AncRqfhZQX/P1DnnidD5\n",
              "WFv/16Kk5qnXIfIXVTTrJjxWH0dZuzRAJR/7fX0B8U6FA9bDmwiEVg653h8BWN2zh2LLxyB4dhWf\n",
              "KF2GWjgv0GgkT5pvnM7D/I5861tpmRoo9PN+sH40mNhAvmfdkexAmhS9PZ7DsiYeO8I9UbTxZV7V\n",
              "LHaLmFZnCeZYL92PPVHNa/nixNTBGeduEXXfUzE1JO8NSXD6dfjqHuvG4Su9IAl2noAz4QAAAXkB\n",
              "n3F0Q38AAM31VNEAllyzTVtW1zAC3nkh/z+BKOpThBl4H1CZg9X9Ty3xapGsZ2/ERxlhL87Pb0Ya\n",
              "424COklIpzRlmp1ySjGD+0lnOHR/kT4bEIeiYfUGCdbsvZxTVh1fxP5I910R0ZTxR/8JgOO66TyK\n",
              "T1LGlRLIr1X5KzN93ROPhIfzopwGjxtvpqq+LQdgcviA3GyBiuAb/8MQM4yV++tcnWu3gYhfdkSV\n",
              "PF+xM1iCX3gqneF2ku3M/sGcp+NK2s5ZzwyMxWijaK5pud5n5zfAqMJ9bh30RmZ81ugf7fzi4yj4\n",
              "C+rpLb0VzCt+3SlAqEeF2WX/U/0zutYnLrZNP1sRAw5H5VLZhl5wLiAbc9Zw5vEeSyB5TFh6kOIw\n",
              "NMC6ADIVO62/kaVOqLPd1e60SQR6/BUMnN4Yct3yZKiD8bDg/dkgICMnK8G3ycdaySJT7dTQudO4\n",
              "qu+mvwRpqN4WO9xb2yOANWJz8oSPiCuh3uDI7hRMTMCLgAAAANoBn3NqQ38AAMP3OmF1/dEsIH9N\n",
              "8M4w735gnnUXLothpdAAGgg0P0ZRsSl0X76YRLl1XOarXjIKFiu8KSJkQRHDu9jQQ6VMrI7i96PN\n",
              "aFte38NdBLY+bBGJX9XYnKQJBIIGYPRIant/fE7AdXONRSBl8tUBGFcJ9ZRi2Xe0em2JxY+o8mOp\n",
              "+jHYmcY7OXL5LLlwEIjYYc8BGY4gZZLANFTrJNtBRzdnmUymOkVXeC9CjuoiJxSRDlLdJ3pNASrp\n",
              "LITOnLnnXffrSKo3T8W0QZgoZ3D9gYCrK0wBdwAAAP9Bm3hJqEFsmUwIb//+p4QAAg3yNW7+Lp2r\n",
              "MrQAoMLPiduZZ6Wrp13vvD45T6N7pBktoBJyqIAXJ/v4iIYU0lr4Rs3W5RbWYO/2J/f3xM71LP2u\n",
              "ltWOqFnsEr7NijOX4nWShh1MY26rg2/S0Sbul7/kY6zNCLKi26TXhx586AGe7OhoE3CGBcMOsZzQ\n",
              "yd3HPNn9Qi44rcxvrobTpjf3UT7CpVCSjIhxCpQgTvRKp7Cm5nB0iKMa0FsE7ewTsEyEVU9enrQt\n",
              "0QnBMs/Br/at1nJaqILSbGlbhVQa+eizHtWlKmvmF+c+RlSs3sR6jG7WzzqtBDvubAfOMe+OgYEZ\n",
              "9D0AAADtQZ+WRRUsO/8AAJBNoVKmEb88HPh2nd8IlaU8JGgjlN1z0wGEKuFYRwBqkpl8XMTTW2NR\n",
              "0FfdSXdbOTSBtEputdNN/hKb93XRPjjt0ACoChIIP+0uAturd/2xBTgo5oxtey6sNHzcTegGH7Ph\n",
              "ADaBMBKP1stEd6kFFDjAG0a+O8INJqyp5aBoIpfwKj0gCkKUkdTE6z84SaapH84zBZTbCczh2A5U\n",
              "fz8exz9ARoCLSzLPiJurRg9StrZ+hxo97uIDXoseUUg6lowGa/tcPDMiolCXifF2FfWGBRMygnxQ\n",
              "Vz64VJtcXiChvTe1wErAAAABRwGftXRDfwAAzaX0rxxNZBarJH65R1Lf8FmttDKSUWGyykZpqvQq\n",
              "qz8QABO+zfNWiuywAc5cl3ViKA1e0vG7lr9zft/mwcvb6X2soWQdmAYo6coOvV/gQFcZrm9+rTIi\n",
              "hHg0tvBKNc6HVHMZ37viT05UGgz1U52tOo8rkaYCPSe8Hvmtic3cBAVBFzznyAuoEZChucdzddWG\n",
              "SLx4yiIegPTyLq2z4aYPkkzflvk4Q1KAVPxV6TaEmvkfUBG1AxYZCbVOkfM/Mme2TWLIqRCg343S\n",
              "pv9IIyQqtVMqtXm4RpgYDlr3Ca32wKr8HmbcvYrgkiiR88gCY8Kfhc27IJxQFnn9RswsPT52T3yI\n",
              "+lCJbIvtQqAufUMGdkVeTsUv+P97GQpufoE0oGUzhigSN4OyHUIKqxN38U1TnwmWrvsOIa31q4gl\n",
              "+4m2gQAAAR8Bn7dqQ38AAM4LpXgSADarTfdMXYOufr9qXeytz3OKyQQJtvazjsvN/r8Umq/5VpoJ\n",
              "acVZSQ/P/ZkpvC+0gCk9m+VwSWuOAZv3/oBTD+NGn5exA9uJ9zGyO2uIMtE4/6/69aAExvwL+1W1\n",
              "HSuPtDUat9IQeFRB0A6JDzy3SJmKURru31hIbSiin9M9v5bp7T+5PIipzeSCXqrDkUTW4n2HWXPD\n",
              "q7b0PHZUR3RXPSdSysPC6uq5SS4L/mlQfH+Z4oGLRqRS71RoT9nh1NQWPVpBU/uDHv26GalmHwkL\n",
              "Qb6nhzgWFOnREZ7KrjRZqPq5Yb5IVy0HAs19LIdWXYf0J1oNLqbW3c2q+sB98cxYF7x8v+i/2NLV\n",
              "XADrSdAlVUIBowAABF5tb292AAAAbG12aGQAAAAAAAAAAAAAAAAAAAPoAAAJxAABAAABAAAAAAAA\n",
              "AAAAAAAAAQAAAAAAAAAAAAAAAAAAAAEAAAAAAAAAAAAAAAAAAEAAAAAAAAAAAAAAAAAAAAAAAAAA\n",
              "AAAAAAAAAAAAAAACAAADiHRyYWsAAABcdGtoZAAAAAMAAAAAAAAAAAAAAAEAAAAAAAAJxAAAAAAA\n",
              "AAAAAAAAAAAAAAAAAQAAAAAAAAAAAAAAAAAAAAEAAAAAAAAAAAAAAAAAAEAAAAACgAAAAeAAAAAA\n",
              "ACRlZHRzAAAAHGVsc3QAAAAAAAAAAQAACcQAAAgAAAEAAAAAAwBtZGlhAAAAIG1kaGQAAAAAAAAA\n",
              "AAAAAAAAACgAAABkAFXEAAAAAAAtaGRscgAAAAAAAAAAdmlkZQAAAAAAAAAAAAAAAFZpZGVvSGFu\n",
              "ZGxlcgAAAAKrbWluZgAAABR2bWhkAAAAAQAAAAAAAAAAAAAAJGRpbmYAAAAcZHJlZgAAAAAAAAAB\n",
              "AAAADHVybCAAAAABAAACa3N0YmwAAAC3c3RzZAAAAAAAAAABAAAAp2F2YzEAAAAAAAAAAQAAAAAA\n",
              "AAAAAAAAAAAAAAACgAHgAEgAAABIAAAAAAAAAAEAAAAAAAAAAAAAAAAAAAAAAAAAAAAAAAAAAAAA\n",
              "AAAAAAAY//8AAAA1YXZjQwFkABb/4QAYZ2QAFqzZQKA9oQAAAwABAAADABQPFi2WAQAGaOvjyyLA\n",
              "/fj4AAAAABx1dWlka2hA8l8kT8W6OaUbzwMj8wAAAAAAAAAYc3R0cwAAAAAAAAABAAAAGQAABAAA\n",
              "AAAUc3RzcwAAAAAAAAABAAAAAQAAANhjdHRzAAAAAAAAABkAAAABAAAIAAAAAAEAABQAAAAAAQAA\n",
              "CAAAAAABAAAAAAAAAAEAAAQAAAAAAQAAFAAAAAABAAAIAAAAAAEAAAAAAAAAAQAABAAAAAABAAAU\n",
              "AAAAAAEAAAgAAAAAAQAAAAAAAAABAAAEAAAAAAEAABQAAAAAAQAACAAAAAABAAAAAAAAAAEAAAQA\n",
              "AAAAAQAAFAAAAAABAAAIAAAAAAEAAAAAAAAAAQAABAAAAAABAAAUAAAAAAEAAAgAAAAAAQAAAAAA\n",
              "AAABAAAEAAAAABxzdHNjAAAAAAAAAAEAAAABAAAAGQAAAAEAAAB4c3RzegAAAAAAAAAAAAAAGQAA\n",
              "DP0AAAIQAAABRgAAAP4AAAE3AAABPwAAAOgAAADbAAABCgAAAPkAAAC6AAABKgAAAKkAAAFQAAAA\n",
              "yQAAALIAAADlAAABLwAAAOIAAAF9AAAA3gAAAQMAAADxAAABSwAAASMAAAAUc3RjbwAAAAAAAAAB\n",
              "AAAAMAAAAGJ1ZHRhAAAAWm1ldGEAAAAAAAAAIWhkbHIAAAAAAAAAAG1kaXJhcHBsAAAAAAAAAAAA\n",
              "AAAALWlsc3QAAAAlqXRvbwAAAB1kYXRhAAAAAQAAAABMYXZmNTguNzYuMTAw\n",
              "\">\n",
              "  Your browser does not support the video tag.\n",
              "</video>"
            ]
          },
          "metadata": {},
          "execution_count": 46
        }
      ]
    }
  ]
}